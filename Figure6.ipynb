{
 "cells": [
  {
   "cell_type": "markdown",
   "source": [
    "Model, analyses and Figures can be found here : https://github.com/Guylu/GluFormer"
   ],
   "metadata": {
    "collapsed": false
   },
   "id": "28f97173d27bdf9b"
  },
  {
   "cell_type": "code",
   "execution_count": null,
   "outputs": [],
   "source": [],
   "metadata": {
    "collapsed": false
   },
   "id": "e77cb1e724fd0d6d"
  }
 ],
 "metadata": {
  "kernelspec": {
   "display_name": "Python 3",
   "language": "python",
   "name": "python3"
  },
  "language_info": {
   "codemirror_mode": {
    "name": "ipython",
    "version": 2
   },
   "file_extension": ".py",
   "mimetype": "text/x-python",
   "name": "python",
   "nbconvert_exporter": "python",
   "pygments_lexer": "ipython2",
   "version": "2.7.6"
  }
 },
 "nbformat": 4,
 "nbformat_minor": 5
}
